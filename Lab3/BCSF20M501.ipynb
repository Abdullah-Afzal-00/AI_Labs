{
 "cells": [
  {
   "cell_type": "code",
   "execution_count": 1,
   "id": "994764ca",
   "metadata": {},
   "outputs": [],
   "source": [
    "import numpy as np"
   ]
  },
  {
   "cell_type": "code",
   "execution_count": 2,
   "id": "2988c67b",
   "metadata": {},
   "outputs": [],
   "source": [
    "def isSolvable(puzzle):\n",
    "    inv_count = 0\n",
    "    count = {i:0 for i in range(9)}\n",
    "    for i, val in enumerate(puzzle):\n",
    "        count[val] += 1\n",
    "        for j in range(i+1, 9):\n",
    "            if puzzle[j] and val and puzzle[j] < val:\n",
    "                inv_count += 1\n",
    "    return inv_count % 2 == 0\n"
   ]
  },
  {
   "cell_type": "code",
   "execution_count": 37,
   "id": "6f84dea9",
   "metadata": {},
   "outputs": [
    {
     "name": "stdout",
     "output_type": "stream",
     "text": [
      "Solvable\n"
     ]
    }
   ],
   "source": [
    "initial_state = [1, 2, 3, 0, 4, 6, 7, 5, 8]\n",
    "goal_state = [1,2,3,4,5,6,7,8 ,0]\n",
    "\n",
    "if isSolvable(initial_state):\n",
    "    print(\"Solvable\")\n",
    "else:\n",
    "    print(\"Not Solvable\")"
   ]
  },
  {
   "cell_type": "code",
   "execution_count": 20,
   "id": "6cb38320",
   "metadata": {},
   "outputs": [],
   "source": [
    "def get_position(tile, state):\n",
    "    for i in range(len(state)):\n",
    "        for j in range(len(state[0])):\n",
    "            if state[i][j] == tile:\n",
    "                return i, j"
   ]
  },
  {
   "cell_type": "code",
   "execution_count": 21,
   "id": "8e5ff529",
   "metadata": {},
   "outputs": [],
   "source": [
    "def manhattan_distance(state, goal):\n",
    "    distance = 0\n",
    "    puzzle_2d = [state[i:i+3] for i in range(0, len(state), 3)]\n",
    "    goal_2d = [goal[i:i+3] for i in range(0, len(goal), 3)]\n",
    "    for tile in state:\n",
    "        if tile != 0:\n",
    "            row, col = get_position(tile, puzzle_2d)\n",
    "            goal_row, goal_col = get_position(tile, goal_2d)\n",
    "            distance += abs(row - goal_row) + abs(col - goal_col)\n",
    "    return distance"
   ]
  },
  {
   "cell_type": "code",
   "execution_count": 22,
   "id": "9741ce79",
   "metadata": {},
   "outputs": [],
   "source": [
    "def misplaced_tiles(state, goal):\n",
    "    puzzle_2d = [state[i:i+3] for i in range(0, len(state), 3)]\n",
    "    goal_2d = [goal[i:i+3] for i in range(0, len(goal), 3)]\n",
    "    tiles_count = 0   \n",
    "    for i in range(0, 3):\n",
    "        for j in range(0, 3):\n",
    "            if puzzle_2d[i][j] != goal_2d[i][j]:\n",
    "                tiles_count += 1\n",
    "    return tiles_count"
   ]
  },
  {
   "cell_type": "code",
   "execution_count": 23,
   "id": "113291af",
   "metadata": {},
   "outputs": [],
   "source": [
    "def euclidean_distance(state, goal):\n",
    "    distance = 0\n",
    "    puzzle_2d = [state[i:i+3] for i in range(0, len(state), 3)]\n",
    "    goal_2d = [goal[i:i+3] for i in range(0, len(goal), 3)]\n",
    "    for tile in state:\n",
    "        if tile != 0:\n",
    "            row, col = get_position(tile, puzzle_2d)\n",
    "            goal_row, goal_col = get_position(tile, goal_2d)\n",
    "            distance += np.sqrt((row - goal_row)**2 + (col - goal_col)**2)\n",
    "    return distance"
   ]
  },
  {
   "cell_type": "code",
   "execution_count": 24,
   "id": "d954f31a",
   "metadata": {},
   "outputs": [],
   "source": [
    "def printState(state):\n",
    "    for k in range(3):\n",
    "        for j in range(3):\n",
    "            print(state[k*3+j], end = \" \")\n",
    "        print()\n",
    "    print(\"\\n ----------- \\n\")"
   ]
  },
  {
   "cell_type": "code",
   "execution_count": 35,
   "id": "4faf9eaa",
   "metadata": {},
   "outputs": [],
   "source": [
    "def get_actions(state):\n",
    "    actions = []\n",
    "    i = state.index(0)\n",
    "    if i % 3 > 0:\n",
    "        actions.append(('left', i, i-1))\n",
    "    if i % 3 < 2:\n",
    "        actions.append(('right', i, i+1))\n",
    "    if i // 3 > 0:\n",
    "        actions.append(('up', i, i-3))\n",
    "    if i // 3 < 2:\n",
    "        actions.append(('down', i, i+3))\n",
    "    return actions\n",
    "\n",
    "def dfs_iterative_deepening(state, choice = 1):\n",
    "    goal_state = [1,2,3,4,5,6,7,8 ,0]\n",
    "    depth_limit = 0\n",
    "    while True:\n",
    "        stack = [(state, [], 0)]\n",
    "        while stack:\n",
    "            current_state, path, depth = stack.pop()\n",
    "            possibilities = []\n",
    "            if current_state == goal_state:\n",
    "                return path\n",
    "            if depth < depth_limit:\n",
    "                actions = get_actions(current_state)\n",
    "                for action in actions:\n",
    "                    next_state = current_state[:]\n",
    "                    next_state[action[1]], next_state[action[2]] = next_state[action[2]], next_state[action[1]]\n",
    "                    if choice == 1:\n",
    "                        cost = manhattan_distance(next_state, goal_state)\n",
    "                    elif choice == 2:\n",
    "                        cost = misplaced_tiles(next_state, goal_state)\n",
    "                    elif choice == 3:\n",
    "                        cost = euclidean_distance(next_state, goal_state)\n",
    "                    possibilities.append((cost, next_state, path + [action[0]], depth + 1))\n",
    "                possibilities.sort(key=lambda x: x[0])\n",
    "                stack.append(possibilities[0][1:])\n",
    "                printState(possibilities[0][1])\n",
    "                    \n",
    "        depth_limit += 1\n",
    "        if depth_limit > 100:\n",
    "            return None\n",
    "\n",
    "\n"
   ]
  },
  {
   "cell_type": "code",
   "execution_count": 38,
   "id": "da10e0d0",
   "metadata": {},
   "outputs": [
    {
     "name": "stdout",
     "output_type": "stream",
     "text": [
      "1 2 3 \n",
      "4 0 6 \n",
      "7 5 8 \n",
      "\n",
      " ----------- \n",
      "\n",
      "1 2 3 \n",
      "4 0 6 \n",
      "7 5 8 \n",
      "\n",
      " ----------- \n",
      "\n",
      "1 2 3 \n",
      "4 5 6 \n",
      "7 0 8 \n",
      "\n",
      " ----------- \n",
      "\n",
      "1 2 3 \n",
      "4 0 6 \n",
      "7 5 8 \n",
      "\n",
      " ----------- \n",
      "\n",
      "1 2 3 \n",
      "4 5 6 \n",
      "7 0 8 \n",
      "\n",
      " ----------- \n",
      "\n",
      "1 2 3 \n",
      "4 5 6 \n",
      "7 8 0 \n",
      "\n",
      " ----------- \n",
      "\n",
      "Solution found after 3 moves: ['right', 'down', 'right']\n",
      "Total Time Taken :  0.004229545593261719\n"
     ]
    }
   ],
   "source": [
    "import time\n",
    "\n",
    "user_choice = int(input(\"Enter your choice:\\n1. Manhattan Distance\\n2. Misplaced Tiles\\n3. Euclidean Distance\\n\"))\n",
    "start = time.time()\n",
    "solution = dfs_iterative_deepening(initial_state, user_choice)\n",
    "\n",
    "if solution is None:\n",
    "    print(\"No solution found\")\n",
    "else:\n",
    "    print(\"Solution found after\", len(solution), \"moves:\", solution)\n",
    "    #print(goal_state)\n",
    "\n",
    "end = time.time()\n",
    "print(\"Total Time Taken : \", end - start)"
   ]
  },
  {
   "cell_type": "code",
   "execution_count": null,
   "id": "4a357472",
   "metadata": {},
   "outputs": [],
   "source": []
  }
 ],
 "metadata": {
  "kernelspec": {
   "display_name": "\"Python/Mu (mu_venv-38-20230313-235647)\"",
   "language": "python",
   "name": "mu_venv-38-20230313-235647"
  },
  "language_info": {
   "codemirror_mode": {
    "name": "ipython",
    "version": 3
   },
   "file_extension": ".py",
   "mimetype": "text/x-python",
   "name": "python",
   "nbconvert_exporter": "python",
   "pygments_lexer": "ipython3",
   "version": "3.8.12"
  }
 },
 "nbformat": 4,
 "nbformat_minor": 5
}
