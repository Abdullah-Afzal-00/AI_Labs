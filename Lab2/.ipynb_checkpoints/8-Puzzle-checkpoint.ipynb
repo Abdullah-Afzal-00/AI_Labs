{
 "cells": [
  {
   "cell_type": "code",
   "execution_count": 25,
   "id": "c18b0954",
   "metadata": {},
   "outputs": [],
   "source": [
    "def isSolvable(puzzle):\n",
    "    inv_count = 0\n",
    "    count = {i:0 for i in range(9)}\n",
    "    for i, val in enumerate(puzzle):\n",
    "        count[val] += 1\n",
    "        for j in range(i+1, 9):\n",
    "            if puzzle[j] and val and puzzle[j] < val:\n",
    "                inv_count += 1\n",
    "    return inv_count % 2 == 0\n"
   ]
  },
  {
   "cell_type": "code",
   "execution_count": 26,
   "id": "1963994a",
   "metadata": {},
   "outputs": [
    {
     "name": "stdout",
     "output_type": "stream",
     "text": [
      "Solvable\n"
     ]
    }
   ],
   "source": [
    "initial_stage = [1,5,3,2,7,4,6,0,8]\n",
    "goal_stage = [1,2,3,4,5,6,7,8 ,0]\n",
    "\n",
    "if isSolvable(initial_stage):\n",
    "    print(\"Solvable\")\n",
    "else:\n",
    "    print(\"Not Solvable\")"
   ]
  },
  {
   "cell_type": "code",
   "execution_count": 28,
   "id": "0a50962b",
   "metadata": {},
   "outputs": [
    {
     "ename": "IndexError",
     "evalue": "list index out of range",
     "output_type": "error",
     "traceback": [
      "\u001b[1;31m---------------------------------------------------------------------------\u001b[0m",
      "\u001b[1;31mIndexError\u001b[0m                                Traceback (most recent call last)",
      "\u001b[1;32m~\\AppData\\Local\\Temp\\ipykernel_7708\\3050181290.py\u001b[0m in \u001b[0;36m<module>\u001b[1;34m\u001b[0m\n\u001b[0;32m     72\u001b[0m \u001b[1;32mif\u001b[0m \u001b[0misSolvable\u001b[0m\u001b[1;33m(\u001b[0m\u001b[0mpuzzle\u001b[0m\u001b[1;33m)\u001b[0m\u001b[1;33m:\u001b[0m\u001b[1;33m\u001b[0m\u001b[1;33m\u001b[0m\u001b[0m\n\u001b[0;32m     73\u001b[0m     \u001b[1;31m# Solve the puzzle using the IDS algorithm\u001b[0m\u001b[1;33m\u001b[0m\u001b[1;33m\u001b[0m\u001b[0m\n\u001b[1;32m---> 74\u001b[1;33m     \u001b[0msolution\u001b[0m\u001b[1;33m,\u001b[0m \u001b[0mcost\u001b[0m \u001b[1;33m=\u001b[0m \u001b[0mids\u001b[0m\u001b[1;33m(\u001b[0m\u001b[0mpuzzle\u001b[0m\u001b[1;33m)\u001b[0m\u001b[1;33m\u001b[0m\u001b[1;33m\u001b[0m\u001b[0m\n\u001b[0m\u001b[0;32m     75\u001b[0m     \u001b[1;31m# Print the solution and cost\u001b[0m\u001b[1;33m\u001b[0m\u001b[1;33m\u001b[0m\u001b[0m\n\u001b[0;32m     76\u001b[0m     \u001b[0mprint\u001b[0m\u001b[1;33m(\u001b[0m\u001b[1;34m\"Solution:\"\u001b[0m\u001b[1;33m,\u001b[0m \u001b[0msolution\u001b[0m\u001b[1;33m)\u001b[0m\u001b[1;33m\u001b[0m\u001b[1;33m\u001b[0m\u001b[0m\n",
      "\u001b[1;32m~\\AppData\\Local\\Temp\\ipykernel_7708\\3050181290.py\u001b[0m in \u001b[0;36mids\u001b[1;34m(start_state)\u001b[0m\n\u001b[0;32m     45\u001b[0m     \u001b[0mdepth\u001b[0m \u001b[1;33m=\u001b[0m \u001b[1;36m0\u001b[0m\u001b[1;33m\u001b[0m\u001b[1;33m\u001b[0m\u001b[0m\n\u001b[0;32m     46\u001b[0m     \u001b[1;32mwhile\u001b[0m \u001b[1;32mTrue\u001b[0m\u001b[1;33m:\u001b[0m\u001b[1;33m\u001b[0m\u001b[1;33m\u001b[0m\u001b[0m\n\u001b[1;32m---> 47\u001b[1;33m         \u001b[0mresult\u001b[0m \u001b[1;33m=\u001b[0m \u001b[0mdls\u001b[0m\u001b[1;33m(\u001b[0m\u001b[0mstart_state\u001b[0m\u001b[1;33m,\u001b[0m \u001b[0mdepth\u001b[0m\u001b[1;33m)\u001b[0m\u001b[1;33m\u001b[0m\u001b[1;33m\u001b[0m\u001b[0m\n\u001b[0m\u001b[0;32m     48\u001b[0m         \u001b[1;32mif\u001b[0m \u001b[0mresult\u001b[0m \u001b[1;32mis\u001b[0m \u001b[1;32mnot\u001b[0m \u001b[1;32mNone\u001b[0m\u001b[1;33m:\u001b[0m\u001b[1;33m\u001b[0m\u001b[1;33m\u001b[0m\u001b[0m\n\u001b[0;32m     49\u001b[0m             \u001b[1;32mreturn\u001b[0m \u001b[0mresult\u001b[0m\u001b[1;33m\u001b[0m\u001b[1;33m\u001b[0m\u001b[0m\n",
      "\u001b[1;32m~\\AppData\\Local\\Temp\\ipykernel_7708\\3050181290.py\u001b[0m in \u001b[0;36mdls\u001b[1;34m(start_state, depth)\u001b[0m\n\u001b[0;32m     60\u001b[0m         \u001b[1;32mif\u001b[0m \u001b[0mcost\u001b[0m \u001b[1;33m<\u001b[0m \u001b[0mdepth\u001b[0m\u001b[1;33m:\u001b[0m\u001b[1;33m\u001b[0m\u001b[1;33m\u001b[0m\u001b[0m\n\u001b[0;32m     61\u001b[0m             \u001b[1;32mfor\u001b[0m \u001b[0mmove\u001b[0m \u001b[1;32min\u001b[0m \u001b[0mmoves\u001b[0m\u001b[1;33m:\u001b[0m\u001b[1;33m\u001b[0m\u001b[1;33m\u001b[0m\u001b[0m\n\u001b[1;32m---> 62\u001b[1;33m                 \u001b[0mnext_state\u001b[0m \u001b[1;33m=\u001b[0m \u001b[0mgenerate_next_state\u001b[0m\u001b[1;33m(\u001b[0m\u001b[0mstate\u001b[0m\u001b[1;33m,\u001b[0m \u001b[0mmove\u001b[0m\u001b[1;33m)\u001b[0m\u001b[1;33m\u001b[0m\u001b[1;33m\u001b[0m\u001b[0m\n\u001b[0m\u001b[0;32m     63\u001b[0m                 \u001b[1;32mif\u001b[0m \u001b[0mnext_state\u001b[0m \u001b[1;32mis\u001b[0m \u001b[1;32mnot\u001b[0m \u001b[1;32mNone\u001b[0m \u001b[1;32mand\u001b[0m \u001b[0mtuple\u001b[0m\u001b[1;33m(\u001b[0m\u001b[0mnext_state\u001b[0m\u001b[1;33m)\u001b[0m \u001b[1;32mnot\u001b[0m \u001b[1;32min\u001b[0m \u001b[0mvisited\u001b[0m\u001b[1;33m:\u001b[0m\u001b[1;33m\u001b[0m\u001b[1;33m\u001b[0m\u001b[0m\n\u001b[0;32m     64\u001b[0m                     \u001b[0mvisited\u001b[0m\u001b[1;33m.\u001b[0m\u001b[0madd\u001b[0m\u001b[1;33m(\u001b[0m\u001b[0mtuple\u001b[0m\u001b[1;33m(\u001b[0m\u001b[0mnext_state\u001b[0m\u001b[1;33m)\u001b[0m\u001b[1;33m)\u001b[0m\u001b[1;33m\u001b[0m\u001b[1;33m\u001b[0m\u001b[0m\n",
      "\u001b[1;32m~\\AppData\\Local\\Temp\\ipykernel_7708\\3050181290.py\u001b[0m in \u001b[0;36mgenerate_next_state\u001b[1;34m(state, move)\u001b[0m\n\u001b[0;32m     32\u001b[0m             \u001b[0mnext_state\u001b[0m\u001b[1;33m[\u001b[0m\u001b[0mindex\u001b[0m\u001b[1;33m]\u001b[0m\u001b[1;33m,\u001b[0m \u001b[0mnext_state\u001b[0m\u001b[1;33m[\u001b[0m\u001b[0mindex\u001b[0m\u001b[1;33m-\u001b[0m\u001b[1;36m3\u001b[0m\u001b[1;33m]\u001b[0m \u001b[1;33m=\u001b[0m \u001b[0mnext_state\u001b[0m\u001b[1;33m[\u001b[0m\u001b[0mindex\u001b[0m\u001b[1;33m-\u001b[0m\u001b[1;36m3\u001b[0m\u001b[1;33m]\u001b[0m\u001b[1;33m,\u001b[0m \u001b[0mnext_state\u001b[0m\u001b[1;33m[\u001b[0m\u001b[0mindex\u001b[0m\u001b[1;33m]\u001b[0m\u001b[1;33m\u001b[0m\u001b[1;33m\u001b[0m\u001b[0m\n\u001b[0;32m     33\u001b[0m         \u001b[1;32melif\u001b[0m \u001b[0mmove\u001b[0m \u001b[1;33m==\u001b[0m \u001b[1;34m'Down'\u001b[0m\u001b[1;33m:\u001b[0m\u001b[1;33m\u001b[0m\u001b[1;33m\u001b[0m\u001b[0m\n\u001b[1;32m---> 34\u001b[1;33m             \u001b[0mnext_state\u001b[0m\u001b[1;33m[\u001b[0m\u001b[0mindex\u001b[0m\u001b[1;33m]\u001b[0m\u001b[1;33m,\u001b[0m \u001b[0mnext_state\u001b[0m\u001b[1;33m[\u001b[0m\u001b[0mindex\u001b[0m\u001b[1;33m+\u001b[0m\u001b[1;36m3\u001b[0m\u001b[1;33m]\u001b[0m \u001b[1;33m=\u001b[0m \u001b[0mnext_state\u001b[0m\u001b[1;33m[\u001b[0m\u001b[0mindex\u001b[0m\u001b[1;33m+\u001b[0m\u001b[1;36m3\u001b[0m\u001b[1;33m]\u001b[0m\u001b[1;33m,\u001b[0m \u001b[0mnext_state\u001b[0m\u001b[1;33m[\u001b[0m\u001b[0mindex\u001b[0m\u001b[1;33m]\u001b[0m\u001b[1;33m\u001b[0m\u001b[1;33m\u001b[0m\u001b[0m\n\u001b[0m\u001b[0;32m     35\u001b[0m         \u001b[1;32melif\u001b[0m \u001b[0mmove\u001b[0m \u001b[1;33m==\u001b[0m \u001b[1;34m'Left'\u001b[0m\u001b[1;33m:\u001b[0m\u001b[1;33m\u001b[0m\u001b[1;33m\u001b[0m\u001b[0m\n\u001b[0;32m     36\u001b[0m             \u001b[0mnext_state\u001b[0m\u001b[1;33m[\u001b[0m\u001b[0mindex\u001b[0m\u001b[1;33m]\u001b[0m\u001b[1;33m,\u001b[0m \u001b[0mnext_state\u001b[0m\u001b[1;33m[\u001b[0m\u001b[0mindex\u001b[0m\u001b[1;33m-\u001b[0m\u001b[1;36m1\u001b[0m\u001b[1;33m]\u001b[0m \u001b[1;33m=\u001b[0m \u001b[0mnext_state\u001b[0m\u001b[1;33m[\u001b[0m\u001b[0mindex\u001b[0m\u001b[1;33m-\u001b[0m\u001b[1;36m1\u001b[0m\u001b[1;33m]\u001b[0m\u001b[1;33m,\u001b[0m \u001b[0mnext_state\u001b[0m\u001b[1;33m[\u001b[0m\u001b[0mindex\u001b[0m\u001b[1;33m]\u001b[0m\u001b[1;33m\u001b[0m\u001b[1;33m\u001b[0m\u001b[0m\n",
      "\u001b[1;31mIndexError\u001b[0m: list index out of range"
     ]
    }
   ],
   "source": [
    "from queue import Queue\n",
    "\n",
    "# Define the goal state\n",
    "goal_state = [1, 2, 3, 4, 5, 6, 7, 8, 0]\n",
    "\n",
    "# Define the directions of possible moves\n",
    "moves = ['Up', 'Down', 'Left', 'Right']\n",
    "\n",
    "# Define a function to find the index of the blank tile (0)\n",
    "def find_blank(state):\n",
    "    return state.index(0)\n",
    "\n",
    "# Define a function to check if a given move is valid\n",
    "def is_valid_move(move, index):\n",
    "    if move == 'Up' and index not in range(0, 3):\n",
    "        return False\n",
    "    elif move == 'Down' and index not in range(6, 9):\n",
    "        return False\n",
    "    elif move == 'Left' and index not in [0, 3, 6]:\n",
    "        return False\n",
    "    elif move == 'Right' and index not in [2, 5, 8]:\n",
    "        return False\n",
    "    else:\n",
    "        return True\n",
    "\n",
    "# Define a function to generate the next state given a move\n",
    "def generate_next_state(state, move):\n",
    "    index = find_blank(state)\n",
    "    if is_valid_move(move, index):\n",
    "        next_state = state.copy()\n",
    "        if move == 'Up':\n",
    "            next_state[index], next_state[index-3] = next_state[index-3], next_state[index]\n",
    "        elif move == 'Down':\n",
    "            # Add a check to see if moving down is a valid move\n",
    "            if index + 3 < 9:\n",
    "                next_state[index], next_state[index+3] = next_state[index+3], next_state[index]\n",
    "        elif move == 'Left':\n",
    "            next_state[index], next_state[index-1] = next_state[index-1], next_state[index]\n",
    "        elif move == 'Right':\n",
    "            next_state[index], next_state[index+1] = next_state[index+1], next_state[index]\n",
    "        return next_state\n",
    "    else:\n",
    "        return None\n",
    "\n",
    "\n",
    "# Define a function to perform the IDS algorithm\n",
    "def ids(start_state):\n",
    "    depth = 0\n",
    "    while True:\n",
    "        result = dls(start_state, depth)\n",
    "        if result is not None:\n",
    "            return result\n",
    "        depth += 1\n",
    "\n",
    "# Define a function to perform the DLS algorithm\n",
    "def dls(start_state, depth):\n",
    "    visited = set()\n",
    "    stack = [(start_state, 0, [])]\n",
    "    while stack:\n",
    "        state, cost, path = stack.pop()\n",
    "        if state == goal_state:\n",
    "            return (path, cost)\n",
    "        if cost < depth:\n",
    "            for move in moves:\n",
    "                next_state = generate_next_state(state, move)\n",
    "                if next_state is not None and tuple(next_state) not in visited:\n",
    "                    visited.add(tuple(next_state))\n",
    "                    stack.append((next_state, cost+1, path+[move]))\n",
    "    return None\n",
    "\n",
    "# Define the initial state of the puzzle\n",
    "puzzle = [1, 0, 3, 4, 2, 5, 7, 8, 6]\n",
    "\n",
    "# Check if the puzzle is solvable\n",
    "if isSolvable(puzzle):\n",
    "    # Solve the puzzle using the IDS algorithm\n",
    "    solution, cost = ids(puzzle)\n",
    "    # Print the solution and cost\n",
    "    print(\"Solution:\", solution)\n",
    "    print(\"Cost:\", cost)\n",
    "else:\n",
    "    print(\"Puzzle is not solvable!\")\n"
   ]
  },
  {
   "cell_type": "code",
   "execution_count": null,
   "id": "14451c7c",
   "metadata": {},
   "outputs": [],
   "source": []
  }
 ],
 "metadata": {
  "kernelspec": {
   "display_name": "Python 3 (ipykernel)",
   "language": "python",
   "name": "python3"
  },
  "language_info": {
   "codemirror_mode": {
    "name": "ipython",
    "version": 3
   },
   "file_extension": ".py",
   "mimetype": "text/x-python",
   "name": "python",
   "nbconvert_exporter": "python",
   "pygments_lexer": "ipython3",
   "version": "3.9.13"
  }
 },
 "nbformat": 4,
 "nbformat_minor": 5
}
