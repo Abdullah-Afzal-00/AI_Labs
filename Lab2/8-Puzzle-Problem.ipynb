{
 "cells": [
  {
   "cell_type": "code",
   "execution_count": 7,
   "id": "2988c67b",
   "metadata": {},
   "outputs": [],
   "source": [
    "def isSolvable(puzzle):\n",
    "    inv_count = 0\n",
    "    count = {i:0 for i in range(9)}\n",
    "    for i, val in enumerate(puzzle):\n",
    "        count[val] += 1\n",
    "        for j in range(i+1, 9):\n",
    "            if puzzle[j] and val and puzzle[j] < val:\n",
    "                inv_count += 1\n",
    "    return inv_count % 2 == 0\n"
   ]
  },
  {
   "cell_type": "code",
   "execution_count": 8,
   "id": "4faf9eaa",
   "metadata": {},
   "outputs": [],
   "source": [
    "def get_actions(state):\n",
    "    actions = []\n",
    "    i = state.index(0)\n",
    "    if i % 3 > 0:\n",
    "        actions.append(('left', i, i-1))\n",
    "    if i % 3 < 2:\n",
    "        actions.append(('right', i, i+1))\n",
    "    if i // 3 > 0:\n",
    "        actions.append(('up', i, i-3))\n",
    "    if i // 3 < 2:\n",
    "        actions.append(('down', i, i+3))\n",
    "    return actions\n",
    "\n",
    "def dfs_iterative_deepening(state):\n",
    "    goal_state = [ 1, 2, 3, 4, 5, 6, 7, 8 , 0 ]\n",
    "    depth_limit = 0\n",
    "    while True:\n",
    "        stack = [(state, [], 0)]\n",
    "        visited = set()\n",
    "        while stack:\n",
    "            current_state, path, depth = stack.pop()\n",
    "            visited.add(tuple(current_state))\n",
    "            if current_state == goal_state:\n",
    "                return (path,depth)\n",
    "            if depth < depth_limit:\n",
    "                actions = get_actions(current_state)\n",
    "                for action in actions:\n",
    "                    next_state = current_state[:]\n",
    "                    next_state[action[1]], next_state[action[2]] = next_state[action[2]], next_state[action[1]]\n",
    "                    if tuple(next_state) not in visited:\n",
    "                        stack.append((next_state, path + [action[0]], depth + 1))\n",
    "        depth_limit += 1\n",
    "        if depth_limit > 50:\n",
    "            return None\n"
   ]
  },
  {
   "cell_type": "code",
   "execution_count": 9,
   "id": "da10e0d0",
   "metadata": {},
   "outputs": [
    {
     "name": "stdout",
     "output_type": "stream",
     "text": [
      "Solvable\n",
      "Solution :  ['up', 'up', 'left', 'down', 'down', 'right', 'up', 'up', 'right', 'down', 'left', 'left', 'up', 'right', 'down', 'right', 'up', 'left', 'left', 'down', 'right', 'right', 'up', 'left', 'left', 'down', 'right', 'down', 'right']\n",
      "Depth :  29\n",
      "Total Number of moves :  29\n",
      "Total Time Taken :  2.035555601119995\n"
     ]
    }
   ],
   "source": [
    "import time\n",
    "\n",
    "start = time.time()\n",
    "\n",
    "initial_state = [1,5,3,2,7,4,6,0,8]\n",
    "goal_state = [1,2,3,4,5,6,7,8 ,0]\n",
    "\n",
    "if isSolvable(initial_state):\n",
    "    print(\"Solvable\")\n",
    "    try:\n",
    "        solution , depth = dfs_iterative_deepening(initial_state)\n",
    "    except:\n",
    "        solution = None\n",
    "        \n",
    "    if solution is None:\n",
    "        print(\"No solution found\")\n",
    "    else:\n",
    "        print( \"Solution : \" , solution)\n",
    "        print( \"Depth : \" , depth)\n",
    "        print(\"Total Number of moves : \" , len(solution))\n",
    "\n",
    "    end = time.time()\n",
    "    print(\"Total Time Taken : \" , end - start)\n",
    "else:\n",
    "    print(\"Not Solvable\")"
   ]
  },
  {
   "cell_type": "code",
   "execution_count": null,
   "id": "d18a3b99",
   "metadata": {},
   "outputs": [],
   "source": []
  }
 ],
 "metadata": {
  "kernelspec": {
   "display_name": "\"Python/Mu (mu_venv-38-20230313-235647)\"",
   "language": "python",
   "name": "mu_venv-38-20230313-235647"
  },
  "language_info": {
   "codemirror_mode": {
    "name": "ipython",
    "version": 3
   },
   "file_extension": ".py",
   "mimetype": "text/x-python",
   "name": "python",
   "nbconvert_exporter": "python",
   "pygments_lexer": "ipython3",
   "version": "3.8.12"
  }
 },
 "nbformat": 4,
 "nbformat_minor": 5
}
